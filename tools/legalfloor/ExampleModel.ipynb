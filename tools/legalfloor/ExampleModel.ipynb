{
 "cells": [
  {
   "cell_type": "markdown",
   "id": "d70d3946",
   "metadata": {
    "pycharm": {
     "name": "#%% md\n"
    }
   },
   "source": [
    "## Setting up Plotting Functions"
   ]
  },
  {
   "cell_type": "code",
   "execution_count": 1,
   "id": "a28c2441",
   "metadata": {
    "pycharm": {
     "name": "#%%\n"
    }
   },
   "outputs": [],
   "source": [
    "from ipycanvas import Canvas\n",
    "\n",
    "\n",
    "canvas_width = 500\n",
    "canvas_height = 500\n",
    "xmin, ymin, xmax, ymax = 0, 0, 0, 0\n",
    "\n",
    "def setbounds(a,b,c,d):\n",
    "    global xmin, xmax, ymin, ymax\n",
    "    xmin = a\n",
    "    ymin = b\n",
    "    xmax = c\n",
    "    ymax = d\n",
    "\n",
    "def transform(x,y):\n",
    "    return (x - xmin) / (xmax - xmin) * canvas_width, (y - ymin) / (ymax - ymin) * canvas_height \n",
    "\n",
    "def draw():\n",
    "    a = x1[0] - 0.5 * w1[0]\n",
    "    b = y1[0] - 0.5 * h1[0]\n",
    "    c = x1[0] + 0.5 * w1[0]\n",
    "    d = y1[0] + 0.5 * h1[0]\n",
    "    e = x2[0] - 0.5 * w2[0]\n",
    "    f = y2[0] - 0.5 * h2[0]\n",
    "    i = x2[0] + 0.5 * w2[0]\n",
    "    h = y2[0] + 0.5 * h2[0]\n",
    "    \n",
    "    p1 = transform(a,b)\n",
    "    p2 = transform(c,d)\n",
    "    q1 = transform(e,f)\n",
    "    q2 = transform(i,h)\n",
    "    \n",
    "    canvas = Canvas(width=canvas_width, height=canvas_height)\n",
    "    \n",
    "    canvas.fill_style = \"#000\"\n",
    "    canvas.fill_rect(0,0,canvas_width, canvas_height)\n",
    "    \n",
    "    canvas.fill_style = \"#F559\"\n",
    "    canvas.fill_rect(p1[0], p1[1], p2[0] - p1[0], p2[1] - p1[1])\n",
    "    \n",
    "    canvas.fill_style = \"#55F9\"\n",
    "    canvas.fill_rect(q1[0], q1[1], q2[0] - q1[0], q2[1] - q1[1])\n",
    "    \n",
    "    return canvas"
   ]
  },
  {
   "cell_type": "markdown",
   "id": "b3a67b57",
   "metadata": {
    "pycharm": {
     "name": "#%% md\n"
    }
   },
   "source": [
    "## Definitions"
   ]
  },
  {
   "cell_type": "code",
   "execution_count": 2,
   "id": "ab2f9713",
   "metadata": {
    "pycharm": {
     "name": "#%%\n"
    }
   },
   "outputs": [],
   "source": [
    "from gekko import GEKKO\n",
    "\n",
    "g = GEKKO(remote=False)\n",
    "g.options.SOLVER = 3\n",
    "\n",
    "max_ratio = 4\n",
    "\n",
    "def SMAX(x, y, sroot: GEKKO, tau = 0.01):\n",
    "    return 0.5 * (x + y + sroot( (x - y)**2 + 4 * tau * tau ))\n",
    "    \n",
    "def THIN(w, h = 1):\n",
    "    return 2*w*h/(w*w + h*h)"
   ]
  },
  {
   "cell_type": "markdown",
   "id": "73344b7c",
   "metadata": {
    "pycharm": {
     "name": "#%% md\n"
    }
   },
   "source": [
    "## Initialization"
   ]
  },
  {
   "cell_type": "code",
   "execution_count": 3,
   "id": "72b843b0",
   "metadata": {
    "pycharm": {
     "name": "#%%\n"
    }
   },
   "outputs": [],
   "source": [
    "A1 = 5\n",
    "A2 = 16\n",
    "\n",
    "die_width = 7\n",
    "die_height = 7\n",
    "\n",
    "x1, y1, w1, h1 = g.Var(lb=0, ub=die_width), g.Var(lb=0, ub=die_height), g.Var(lb=0, ub=die_width), g.Var(lb=0, ub=die_height)\n",
    "x2, y2, w2, h2 = g.Var(lb=0, ub=die_width), g.Var(lb=0, ub=die_height), g.Var(lb=0, ub=die_width), g.Var(lb=0, ub=die_height)\n",
    "\n",
    "x1.value, y1.value, w1.value, h1.value = [2], [4], [1], [5]\n",
    "x2.value, y2.value, w2.value, h2.value = [2], [2], [4], [4]\n"
   ]
  },
  {
   "cell_type": "code",
   "execution_count": 4,
   "id": "abb18d54",
   "metadata": {
    "pycharm": {
     "name": "#%%\n"
    }
   },
   "outputs": [
    {
     "data": {
      "application/vnd.jupyter.widget-view+json": {
       "model_id": "2d78b57c442d4eb4822bef1f634328f3",
       "version_major": 2,
       "version_minor": 0
      },
      "text/plain": [
       "Canvas(width=500)"
      ]
     },
     "execution_count": 4,
     "metadata": {},
     "output_type": "execute_result"
    }
   ],
   "source": [
    "setbounds(-1, -1, die_width + 1, die_height + 1)\n",
    "draw()"
   ]
  },
  {
   "cell_type": "markdown",
   "id": "2959308c",
   "metadata": {
    "pycharm": {
     "name": "#%% md\n"
    }
   },
   "source": [
    "## Model Definition"
   ]
  },
  {
   "cell_type": "code",
   "execution_count": 5,
   "id": "c928ca94",
   "metadata": {
    "pycharm": {
     "name": "#%%\n"
    }
   },
   "outputs": [],
   "source": [
    "# Model\n",
    "g.Equation(w1 * h1 == A1)\n",
    "g.Equation(w2 * h2 == A2)\n",
    "\n",
    "g.Equation(THIN(w1, h1) >= THIN(max_ratio))\n",
    "g.Equation(THIN(w2, h2) >= THIN(max_ratio))\n",
    "\n",
    "t1 = (x1 - x2)**2 - 0.25 * (w1 + w2)**2\n",
    "t2 = (y1 - y2)**2 - 0.25 * (h1 + h2)**2\n",
    "g.Equation(SMAX(t1, t2, g.sqrt) >= 0)\n",
    "\n",
    "g.Equation(x1 - 0.5 * w1 >= 0)\n",
    "g.Equation(x2 - 0.5 * w2 >= 0)\n",
    "g.Equation(y1 - 0.5 * h1 >= 0)\n",
    "g.Equation(y2 - 0.5 * h2 >= 0)\n",
    "g.Equation(x1 + 0.5 * w1 <= die_width)\n",
    "g.Equation(x2 + 0.5 * w2 <= die_width)\n",
    "g.Equation(y1 + 0.5 * h1 <= die_height)\n",
    "g.Equation(y2 + 0.5 * h2 <= die_height)\n",
    "\n",
    "g.Obj((x1-x2)**2 + (y1-y2)**2)"
   ]
  },
  {
   "cell_type": "markdown",
   "id": "d298e00f",
   "metadata": {
    "pycharm": {
     "name": "#%% md\n"
    }
   },
   "source": [
    "## Solve"
   ]
  },
  {
   "cell_type": "code",
   "execution_count": 6,
   "id": "b4d4afd7",
   "metadata": {
    "pycharm": {
     "name": "#%%\n"
    }
   },
   "outputs": [
    {
     "name": "stdout",
     "output_type": "stream",
     "text": [
      " ----------------------------------------------------------------\n",
      " APMonitor, Version 1.0.0\n",
      " APMonitor Optimization Suite\n",
      " ----------------------------------------------------------------\n",
      " \n",
      " \n",
      " --------- APM Model Size ------------\n",
      " Each time step contains\n",
      "   Objects      :  0\n",
      "   Constants    :  0\n",
      "   Variables    :  19\n",
      "   Intermediates:  0\n",
      "   Connections  :  0\n",
      "   Equations    :  14\n",
      "   Residuals    :  14\n",
      " \n",
      " Number of state variables:    19\n",
      " Number of total equations: -  13\n",
      " Number of slack variables: -  11\n",
      " ---------------------------------------\n",
      " Degrees of freedom       :    -5\n",
      " \n",
      " * Warning: DOF <= 0\n",
      " **********************************************\n",
      " Steady State Optimization with Interior Point Solver\n",
      " **********************************************\n",
      "  \n",
      "  \n",
      " Info: Exact Hessian\n",
      "\n",
      "******************************************************************************\n",
      "This program contains Ipopt, a library for large-scale nonlinear optimization.\n",
      " Ipopt is released as open source code under the Eclipse Public License (EPL).\n",
      "         For more information visit http://projects.coin-or.org/Ipopt\n",
      "******************************************************************************\n",
      "\n",
      "This is Ipopt version 3.10.2, running with linear solver mumps.\n",
      "\n",
      "Number of nonzeros in equality constraint Jacobian...:       43\n",
      "Number of nonzeros in inequality constraint Jacobian.:        0\n",
      "Number of nonzeros in Lagrangian Hessian.............:       36\n",
      "\n",
      "Total number of variables............................:       19\n",
      "                     variables with only lower bounds:       11\n",
      "                variables with lower and upper bounds:        8\n",
      "                     variables with only upper bounds:        0\n",
      "Total number of equality constraints.................:       13\n",
      "Total number of inequality constraints...............:        0\n",
      "        inequality constraints with only lower bounds:        0\n",
      "   inequality constraints with lower and upper bounds:        0\n",
      "        inequality constraints with only upper bounds:        0\n",
      "\n",
      "iter    objective    inf_pr   inf_du lg(mu)  ||d||  lg(rg) alpha_du alpha_pr  ls\n",
      "   0 4.0000000e+000 6.26e+000 1.57e+000   0.0 0.00e+000    -  0.00e+000 0.00e+000   0\n",
      "   1 3.9295660e-002 6.00e+000 2.01e+002   0.1 2.93e+000    -  6.14e-003 9.03e-001f  1\n",
      "   2 3.9236150e-002 5.99e+000 1.01e+004  -0.1 2.81e+000   4.0 9.99e-001 1.16e-003h  1\n",
      "   3 3.5718672e-002 5.57e+000 1.70e+004  -0.9 2.95e+000   3.5 1.00e+000 6.95e-002h  1\n",
      "   4 3.4918756e-002 5.53e+000 8.45e+004  -0.8 8.25e+000   3.0 1.00e+000 7.88e-003h  1\n",
      "   5 2.8176656e-002 5.44e+000 4.92e+005  -1.3 9.08e+000   3.5 1.00e+000 1.52e-002h  1\n",
      "   6 3.1488913e-002 5.43e+000 1.11e+008   3.3 9.26e+000   3.9 1.00e+000 2.40e-003h  1\n",
      "   7 8.0452389e-001 5.43e+000 6.41e+008  -2.4 3.99e+002    -  7.77e-004 1.32e-004H  1\n",
      "   8 4.0890821e+000 1.16e+000 3.18e+008   2.8 1.00e+000    -  8.31e-001 9.90e-001f  1\n",
      "   9 2.9840285e+000 8.68e-002 4.34e+007   3.3 2.20e-001    -  2.65e-001 1.00e+000f  1\n",
      "iter    objective    inf_pr   inf_du lg(mu)  ||d||  lg(rg) alpha_du alpha_pr  ls\n",
      "  10 2.9485853e+000 1.06e-004 1.13e+007   3.3 5.05e-002    -  3.77e-001 1.00e+000f  1\n",
      "  11 2.9484924e+000 7.31e-010 1.13e+005  -2.8 1.50e-005    -  9.90e-001 1.00e+000h  1\n",
      "  12 2.9363999e+000 1.24e-005 1.24e+003  -4.8 1.21e-002    -  9.89e-001 1.00e+000f  1\n",
      "  13 2.8999400e+000 1.14e-004 1.27e+001  -2.9 3.65e-002    -  9.90e-001 1.00e+000f  1\n",
      "  14 2.8973826e+000 5.63e-007 9.13e-008  -4.4 2.34e-003    -  1.00e+000 1.00e+000h  1\n",
      "  15 2.8963730e+000 3.98e-007 9.23e-008 -10.2 1.10e-003    -  9.99e-001 1.00e+000h  1\n",
      "\n",
      "Number of Iterations....: 15\n",
      "\n",
      "                                   (scaled)                 (unscaled)\n",
      "Objective...............:  2.8963730291778904e+000   2.8963730291778904e+000\n",
      "Dual infeasibility......:  9.2256277085461086e-008   9.2256277085461086e-008\n",
      "Constraint violation....:  3.9837216192495362e-007   3.9837216192495362e-007\n",
      "Complementarity.........:  1.7946802992072002e-007   1.7946802992072002e-007\n",
      "Overall NLP error.......:  3.9837216192495362e-007   3.9837216192495362e-007\n",
      "\n",
      "\n",
      "Number of objective function evaluations             = 17\n",
      "Number of objective gradient evaluations             = 16\n",
      "Number of equality constraint evaluations            = 17\n",
      "Number of inequality constraint evaluations          = 0\n",
      "Number of equality constraint Jacobian evaluations   = 16\n",
      "Number of inequality constraint Jacobian evaluations = 0\n",
      "Number of Lagrangian Hessian evaluations             = 15\n",
      "Total CPU secs in IPOPT (w/o function evaluations)   =      0.019\n",
      "Total CPU secs in NLP function evaluations           =      0.003\n",
      "\n",
      "EXIT: Optimal Solution Found.\n",
      "\n",
      " The solution was found.\n",
      "\n",
      " The final value of the objective function is  2.8963730291778904\n",
      " \n",
      " ---------------------------------------------------\n",
      " Solver         :  IPOPT (v3.12)\n",
      " Solution time  :  0.025 sec\n",
      " Objective      :  2.8963730291778904\n",
      " Successful solution\n",
      " ---------------------------------------------------\n",
      " \n",
      "\n"
     ]
    }
   ],
   "source": [
    "g.solve(disp=True)"
   ]
  },
  {
   "cell_type": "code",
   "execution_count": 7,
   "id": "98bf0954",
   "metadata": {
    "pycharm": {
     "name": "#%%\n"
    }
   },
   "outputs": [
    {
     "data": {
      "application/vnd.jupyter.widget-view+json": {
       "model_id": "fcdf8b9c124a43cab06741a9e27fb4b2",
       "version_major": 2,
       "version_minor": 0
      },
      "text/plain": [
       "Canvas(width=500)"
      ]
     },
     "execution_count": 7,
     "metadata": {},
     "output_type": "execute_result"
    }
   ],
   "source": [
    "draw()"
   ]
  }
 ],
 "metadata": {
  "kernelspec": {
   "display_name": "Python 3 (ipykernel)",
   "language": "python",
   "name": "python3"
  },
  "language_info": {
   "codemirror_mode": {
    "name": "ipython",
    "version": 3
   },
   "file_extension": ".py",
   "mimetype": "text/x-python",
   "name": "python",
   "nbconvert_exporter": "python",
   "pygments_lexer": "ipython3",
   "version": "3.10.5"
  }
 },
 "nbformat": 4,
 "nbformat_minor": 5
}
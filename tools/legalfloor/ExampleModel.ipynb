{
 "cells": [
  {
   "cell_type": "markdown",
   "id": "8c5ad104",
   "metadata": {},
   "source": [
    "## Setting up Plotting Functions"
   ]
  },
  {
   "cell_type": "code",
   "execution_count": 1,
   "id": "9666d032",
   "metadata": {},
   "outputs": [],
   "source": [
    "from ipycanvas import Canvas\n",
    "\n",
    "\n",
    "canvas_width = 500\n",
    "canvas_height = 500\n",
    "\n",
    "def setbounds(a,b,c,d):\n",
    "    global xmin, xmax, ymin, ymax\n",
    "    xmin = a\n",
    "    ymin = b\n",
    "    xmax = c\n",
    "    ymax = d\n",
    "\n",
    "def transform(x,y):\n",
    "    return (x - xmin) / (xmax - xmin) * canvas_width, (y - ymin) / (ymax - ymin) * canvas_height \n",
    "\n",
    "def draw():\n",
    "    a = x1[0] - 0.5 * w1[0]\n",
    "    b = y1[0] - 0.5 * h1[0]\n",
    "    c = x1[0] + 0.5 * w1[0]\n",
    "    d = y1[0] + 0.5 * h1[0]\n",
    "    e = x2[0] - 0.5 * w2[0]\n",
    "    f = y2[0] - 0.5 * h2[0]\n",
    "    g = x2[0] + 0.5 * w2[0]\n",
    "    h = y2[0] + 0.5 * h2[0]\n",
    "    \n",
    "    p1 = transform(a,b)\n",
    "    p2 = transform(c,d)\n",
    "    q1 = transform(e,f)\n",
    "    q2 = transform(g,h)\n",
    "    \n",
    "    canvas = Canvas(width=canvas_width, height=canvas_height)\n",
    "    \n",
    "    canvas.fill_style = \"#000\"\n",
    "    canvas.fill_rect(0,0,canvas_width, canvas_height)\n",
    "    \n",
    "    canvas.fill_style = \"#F559\"\n",
    "    canvas.fill_rect(p1[0], p1[1], p2[0] - p1[0], p2[1] - p1[1])\n",
    "    \n",
    "    canvas.fill_style = \"#55F9\"\n",
    "    canvas.fill_rect(q1[0], q1[1], q2[0] - q1[0], q2[1] - q1[1])\n",
    "    \n",
    "    return canvas"
   ]
  },
  {
   "cell_type": "markdown",
   "id": "b3a67b57",
   "metadata": {},
   "source": [
    "## Definitions"
   ]
  },
  {
   "cell_type": "code",
   "execution_count": 2,
   "id": "ab2f9713",
   "metadata": {},
   "outputs": [],
   "source": [
    "from gekko import GEKKO\n",
    "\n",
    "g = GEKKO(remote=False)\n",
    "g.options.SOLVER = 3\n",
    "\n",
    "max_ratio = 1.1\n",
    "\n",
    "def SMAX(x, y, sroot: GEKKO, tau = 0.01):\n",
    "    return 0.5 * (x + y + sroot( (x - y)**2 + 4 * tau * tau ))\n",
    "    \n",
    "def THIN(w, h = 1):\n",
    "    return 2*w*h/(w*w + h*h)"
   ]
  },
  {
   "cell_type": "markdown",
   "id": "73344b7c",
   "metadata": {},
   "source": [
    "## Initialization"
   ]
  },
  {
   "cell_type": "code",
   "execution_count": 3,
   "id": "72b843b0",
   "metadata": {},
   "outputs": [],
   "source": [
    "A1 = 5\n",
    "A2 = 16\n",
    "\n",
    "die_width = 7\n",
    "die_height = 7\n",
    "\n",
    "x1, y1, w1, h1 = g.Var(lb=0, ub=die_width), g.Var(lb=0, ub=die_height), g.Var(lb=0, ub=die_width), g.Var(lb=0, ub=die_height)\n",
    "x2, y2, w2, h2 = g.Var(lb=0, ub=die_width), g.Var(lb=0, ub=die_height), g.Var(lb=0, ub=die_width), g.Var(lb=0, ub=die_height)\n",
    "\n",
    "x1.value, y1.value, w1.value, h1.value = [2], [4], [1], [5]\n",
    "x2.value, y2.value, w2.value, h2.value = [2], [2], [4], [4]\n"
   ]
  },
  {
   "cell_type": "code",
   "execution_count": 4,
   "id": "abb18d54",
   "metadata": {},
   "outputs": [
    {
     "data": {
      "application/vnd.jupyter.widget-view+json": {
       "model_id": "edff19d6b4d149fb9af4cdbaaacf525e",
       "version_major": 2,
       "version_minor": 0
      },
      "text/plain": [
       "Canvas(width=500)"
      ]
     },
     "execution_count": 4,
     "metadata": {},
     "output_type": "execute_result"
    }
   ],
   "source": [
    "setbounds(-1, -1, die_width + 1, die_height + 1)\n",
    "draw()"
   ]
  },
  {
   "cell_type": "markdown",
   "id": "2959308c",
   "metadata": {},
   "source": [
    "## Model Definition"
   ]
  },
  {
   "cell_type": "code",
   "execution_count": 5,
   "id": "c928ca94",
   "metadata": {},
   "outputs": [],
   "source": [
    "# Model\n",
    "g.Equation(w1 * h1 == A1)\n",
    "g.Equation(w2 * h2 == A2)\n",
    "\n",
    "g.Equation(THIN(w1, h1) >= THIN(max_ratio))\n",
    "g.Equation(THIN(w2, h2) >= THIN(max_ratio))\n",
    "\n",
    "t1 = (x1 - x2)**2 - 0.25 * (w1 + w2)**2\n",
    "t2 = (y1 - y2)**2 - 0.25 * (h1 + h2)**2\n",
    "g.Equation(SMAX(t1, t2, g.sqrt) >= 0)\n",
    "\n",
    "g.Equation(x1 - 0.5 * w1 >= 0)\n",
    "g.Equation(x2 - 0.5 * w2 >= 0)\n",
    "g.Equation(y1 - 0.5 * h1 >= 0)\n",
    "g.Equation(y2 - 0.5 * h2 >= 0)\n",
    "g.Equation(x1 + 0.5 * w1 <= die_width)\n",
    "g.Equation(x2 + 0.5 * w2 <= die_width)\n",
    "g.Equation(y1 + 0.5 * h1 <= die_height)\n",
    "g.Equation(y2 + 0.5 * h2 <= die_height)\n",
    "\n",
    "g.Obj((x1-x2)**2 + (y1-y2)**2)"
   ]
  },
  {
   "cell_type": "markdown",
   "id": "d298e00f",
   "metadata": {},
   "source": [
    "## Solve"
   ]
  },
  {
   "cell_type": "code",
   "execution_count": 6,
   "id": "b4d4afd7",
   "metadata": {},
   "outputs": [
    {
     "name": "stdout",
     "output_type": "stream",
     "text": [
      " ----------------------------------------------------------------\n",
      " APMonitor, Version 1.0.0\n",
      " APMonitor Optimization Suite\n",
      " ----------------------------------------------------------------\n",
      " \n",
      " \n",
      " --------- APM Model Size ------------\n",
      " Each time step contains\n",
      "   Objects      :  0\n",
      "   Constants    :  0\n",
      "   Variables    :  19\n",
      "   Intermediates:  0\n",
      "   Connections  :  0\n",
      "   Equations    :  14\n",
      "   Residuals    :  14\n",
      " \n",
      " Number of state variables:    19\n",
      " Number of total equations: -  13\n",
      " Number of slack variables: -  11\n",
      " ---------------------------------------\n",
      " Degrees of freedom       :    -5\n",
      " \n",
      " * Warning: DOF <= 0\n",
      " **********************************************\n",
      " Steady State Optimization with Interior Point Solver\n",
      " **********************************************\n",
      "  \n",
      "  \n",
      " Info: Exact Hessian\n",
      "\n",
      "******************************************************************************\n",
      "This program contains Ipopt, a library for large-scale nonlinear optimization.\n",
      " Ipopt is released as open source code under the Eclipse Public License (EPL).\n",
      "         For more information visit http://projects.coin-or.org/Ipopt\n",
      "******************************************************************************\n",
      "\n",
      "This is Ipopt version 3.10.2, running with linear solver mumps.\n",
      "\n",
      "Number of nonzeros in equality constraint Jacobian...:       43\n",
      "Number of nonzeros in inequality constraint Jacobian.:        0\n",
      "Number of nonzeros in Lagrangian Hessian.............:       36\n",
      "\n",
      "Total number of variables............................:       19\n",
      "                     variables with only lower bounds:       11\n",
      "                variables with lower and upper bounds:        8\n",
      "                     variables with only upper bounds:        0\n",
      "Total number of equality constraints.................:       13\n",
      "Total number of inequality constraints...............:        0\n",
      "        inequality constraints with only lower bounds:        0\n",
      "   inequality constraints with lower and upper bounds:        0\n",
      "        inequality constraints with only upper bounds:        0\n",
      "\n",
      "iter    objective    inf_pr   inf_du lg(mu)  ||d||  lg(rg) alpha_du alpha_pr  ls\n",
      "   0 4.0000000e+000 6.26e+000 1.57e+000   0.0 0.00e+000    -  0.00e+000 0.00e+000   0\n",
      "   1 3.7825084e+000 6.09e+000 5.33e+000   0.3 3.18e+000    -  9.75e-003 2.76e-002f  1\n",
      "   2 3.6757167e+000 5.99e+000 3.61e+001  -0.2 4.11e+000   2.0 2.30e-002 1.65e-002h  1\n",
      "   3 3.5699980e+000 5.91e+000 2.23e+003   0.6 4.10e+000   1.5 9.24e-001 1.32e-002f  1\n",
      "   4 3.5206079e+000 5.86e+000 1.17e+005   1.9 3.88e+000    -  9.56e-001 8.32e-003h  1\n",
      "   5 3.5525917e+000 5.76e+000 1.20e+005   3.3 1.89e+002    -  1.29e-003 1.03e-003h  1\n",
      "   6 3.7259458e+000 5.63e+000 7.65e+005   3.2 8.53e+000    -  9.95e-001 2.21e-002f  1\n",
      "   7 3.7238537e+000 5.57e+000 2.16e+006   2.9 5.67e+000    -  6.81e-002 9.44e-003h  1\n",
      "   8 3.8018294e+000 5.30e+000 7.77e+006   3.3 6.31e+000    -  1.27e-001 3.71e-002h  1\n",
      "   9 3.7647919e+000 5.29e+000 1.15e+008   3.3 6.42e+000    -  3.53e-002 2.30e-003h  1\n",
      "iter    objective    inf_pr   inf_du lg(mu)  ||d||  lg(rg) alpha_du alpha_pr  ls\n",
      "  10 3.7807514e+000 5.29e+000 1.96e+010   3.3 1.19e+001    -  6.38e-002 3.95e-004h  1\n",
      "  11 4.9559077e+000 5.29e+000 2.93e+010   3.3 2.79e+004    -  1.61e-005 1.02e-005h  1\n",
      "  12r4.9559077e+000 5.29e+000 1.00e+003   3.3 0.00e+000    -  0.00e+000 2.58e-007R  3\n",
      "  13r8.5620272e+000 3.58e+000 1.68e+003   1.1 9.37e+000    -  3.16e-001 6.89e-001f  1\n",
      "  14 8.5916747e+000 3.34e+000 4.86e+001   0.4 5.67e+000    -  2.35e-001 6.82e-002f  1\n",
      "  15 9.5215726e+000 2.69e+000 6.71e+001   0.9 1.79e+001    -  1.30e-001 1.83e-001f  1\n",
      "  16 1.0629963e+001 5.13e+000 2.07e+001  -0.7 3.02e+000    -  1.27e-001 9.51e-001f  1\n",
      "  17 7.5344502e+000 1.20e+001 1.06e+002   2.1 1.01e+003    -  3.14e-005 3.59e-003f  1\n",
      "  18 1.1242209e+001 6.11e+000 3.95e+001   0.5 3.05e+000   1.0 1.00e+000 5.97e-001h  1\n",
      "  19 8.9972086e+000 1.35e+000 2.18e+001   0.5 1.95e+000    -  4.51e-001 9.54e-001f  1\n",
      "iter    objective    inf_pr   inf_du lg(mu)  ||d||  lg(rg) alpha_du alpha_pr  ls\n",
      "  20 9.4822318e+000 7.06e-002 5.30e+000  -0.5 5.38e-001    -  9.12e-001 9.72e-001h  1\n",
      "  21 9.0661447e+000 2.18e-002 4.76e+000  -1.0 5.71e-001    -  9.86e-001 6.91e-001f  1\n",
      "  22 8.8260108e+000 1.89e-003 6.94e-001  -2.3 4.65e-001    -  1.00e+000 9.33e-001f  1\n",
      "  23 8.8366816e+000 2.01e-004 2.22e-001  -3.2 4.58e-002    -  1.00e+000 9.58e-001h  1\n",
      "  24 8.8382902e+000 2.81e-006 6.34e-003  -5.0 3.43e-003    -  1.00e+000 9.94e-001h  1\n",
      "  25 8.8382953e+000 8.59e-009 6.14e-005  -7.1 1.63e-003    -  1.00e+000 9.97e-001h  1\n",
      "  26 8.8382951e+000 1.78e-015 2.28e-013 -11.0 2.25e-005    -  1.00e+000 1.00e+000h  1\n",
      "\n",
      "Number of Iterations....: 26\n",
      "\n",
      "                                   (scaled)                 (unscaled)\n",
      "Objective...............:  8.8382951185809766e+000   8.8382951185809766e+000\n",
      "Dual infeasibility......:  2.2812748698171876e-013   2.2812748698171876e-013\n",
      "Constraint violation....:  1.7763568394002505e-015   1.7763568394002505e-015\n",
      "Complementarity.........:  1.3076936713577293e-011   1.3076936713577293e-011\n",
      "Overall NLP error.......:  1.3076936713577293e-011   1.3076936713577293e-011\n",
      "\n",
      "\n",
      "Number of objective function evaluations             = 30\n",
      "Number of objective gradient evaluations             = 27\n",
      "Number of equality constraint evaluations            = 30\n",
      "Number of inequality constraint evaluations          = 0\n",
      "Number of equality constraint Jacobian evaluations   = 28\n",
      "Number of inequality constraint Jacobian evaluations = 0\n",
      "Number of Lagrangian Hessian evaluations             = 26\n",
      "Total CPU secs in IPOPT (w/o function evaluations)   =      0.030\n",
      "Total CPU secs in NLP function evaluations           =      0.007\n",
      "\n",
      "EXIT: Optimal Solution Found.\n",
      "\n",
      " The solution was found.\n",
      "\n",
      " The final value of the objective function is  8.838295118580977\n",
      " \n",
      " ---------------------------------------------------\n",
      " Solver         :  IPOPT (v3.12)\n",
      " Solution time  :  0.039900000000000005 sec\n",
      " Objective      :  8.838295118580977\n",
      " Successful solution\n",
      " ---------------------------------------------------\n",
      " \n",
      "\n"
     ]
    }
   ],
   "source": [
    "g.solve(disp=True)"
   ]
  },
  {
   "cell_type": "code",
   "execution_count": 7,
   "id": "98bf0954",
   "metadata": {},
   "outputs": [
    {
     "data": {
      "application/vnd.jupyter.widget-view+json": {
       "model_id": "12c55e3cd52f434cae1dd361b26192aa",
       "version_major": 2,
       "version_minor": 0
      },
      "text/plain": [
       "Canvas(width=500)"
      ]
     },
     "execution_count": 7,
     "metadata": {},
     "output_type": "execute_result"
    }
   ],
   "source": [
    "draw()"
   ]
  }
 ],
 "metadata": {
  "kernelspec": {
   "display_name": "Python 3 (ipykernel)",
   "language": "python",
   "name": "python3"
  },
  "language_info": {
   "codemirror_mode": {
    "name": "ipython",
    "version": 3
   },
   "file_extension": ".py",
   "mimetype": "text/x-python",
   "name": "python",
   "nbconvert_exporter": "python",
   "pygments_lexer": "ipython3",
   "version": "3.10.5"
  }
 },
 "nbformat": 4,
 "nbformat_minor": 5
}
